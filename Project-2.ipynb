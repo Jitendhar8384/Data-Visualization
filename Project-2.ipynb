{
 "cells": [
  {
   "cell_type": "code",
   "execution_count": 1,
   "id": "4188fa9e",
   "metadata": {},
   "outputs": [
    {
     "name": "stderr",
     "output_type": "stream",
     "text": [
      "C:\\Users\\Checkout\\anaconda3\\lib\\site-packages\\IPython\\core\\interactiveshell.py:3444: FutureWarning: The error_bad_lines argument has been deprecated and will be removed in a future version.\n",
      "\n",
      "\n",
      "  exec(code_obj, self.user_global_ns, self.user_ns)\n"
     ]
    }
   ],
   "source": [
    "import pandas as pd\n",
    "import numpy as np\n",
    "\n",
    "cars_df = pd.read_csv('user_car_cleaned.csv',error_bad_lines=False, engine=\"python\")"
   ]
  },
  {
   "cell_type": "code",
   "execution_count": 2,
   "id": "82b65ca9",
   "metadata": {},
   "outputs": [
    {
     "data": {
      "text/html": [
       "<div>\n",
       "<style scoped>\n",
       "    .dataframe tbody tr th:only-of-type {\n",
       "        vertical-align: middle;\n",
       "    }\n",
       "\n",
       "    .dataframe tbody tr th {\n",
       "        vertical-align: top;\n",
       "    }\n",
       "\n",
       "    .dataframe thead th {\n",
       "        text-align: right;\n",
       "    }\n",
       "</style>\n",
       "<table border=\"1\" class=\"dataframe\">\n",
       "  <thead>\n",
       "    <tr style=\"text-align: right;\">\n",
       "      <th></th>\n",
       "      <th>Unnamed: 0</th>\n",
       "      <th>vin</th>\n",
       "      <th>back_legroom</th>\n",
       "      <th>body_type</th>\n",
       "      <th>city</th>\n",
       "      <th>city_fuel_economy</th>\n",
       "      <th>daysonmarket</th>\n",
       "      <th>dealer_zip</th>\n",
       "      <th>engine_displacement</th>\n",
       "      <th>engine_type</th>\n",
       "      <th>...</th>\n",
       "      <th>theft_title</th>\n",
       "      <th>transmission</th>\n",
       "      <th>transmission_display</th>\n",
       "      <th>trimId</th>\n",
       "      <th>trim_name</th>\n",
       "      <th>vehicle_damage_category</th>\n",
       "      <th>wheel_system</th>\n",
       "      <th>wheelbase</th>\n",
       "      <th>width</th>\n",
       "      <th>year</th>\n",
       "    </tr>\n",
       "  </thead>\n",
       "  <tbody>\n",
       "    <tr>\n",
       "      <th>0</th>\n",
       "      <td>0</td>\n",
       "      <td>ZACNJABB5KPJ92081</td>\n",
       "      <td>35.1</td>\n",
       "      <td>S</td>\n",
       "      <td>Bayamon</td>\n",
       "      <td>NaN</td>\n",
       "      <td>522</td>\n",
       "      <td>960</td>\n",
       "      <td>1300.0</td>\n",
       "      <td>I4</td>\n",
       "      <td>...</td>\n",
       "      <td>NaN</td>\n",
       "      <td>A</td>\n",
       "      <td>9-Speed Automatic Overdrive</td>\n",
       "      <td>t83804</td>\n",
       "      <td>Latitude</td>\n",
       "      <td>NaN</td>\n",
       "      <td>FWD</td>\n",
       "      <td>101.2</td>\n",
       "      <td>79.6</td>\n",
       "      <td>2019</td>\n",
       "    </tr>\n",
       "    <tr>\n",
       "      <th>1</th>\n",
       "      <td>1</td>\n",
       "      <td>SALCJ2FX1LH858117</td>\n",
       "      <td>38.1</td>\n",
       "      <td>S</td>\n",
       "      <td>San Juan</td>\n",
       "      <td>NaN</td>\n",
       "      <td>207</td>\n",
       "      <td>922</td>\n",
       "      <td>2000.0</td>\n",
       "      <td>I4</td>\n",
       "      <td>...</td>\n",
       "      <td>NaN</td>\n",
       "      <td>A</td>\n",
       "      <td>9-Speed Automatic Overdrive</td>\n",
       "      <td>t86759</td>\n",
       "      <td>S</td>\n",
       "      <td>NaN</td>\n",
       "      <td>AWD</td>\n",
       "      <td>107.9</td>\n",
       "      <td>85.6</td>\n",
       "      <td>2020</td>\n",
       "    </tr>\n",
       "    <tr>\n",
       "      <th>2</th>\n",
       "      <td>2</td>\n",
       "      <td>JF1VA2M67G9829723</td>\n",
       "      <td>35.4</td>\n",
       "      <td>D</td>\n",
       "      <td>Guaynabo</td>\n",
       "      <td>17.0</td>\n",
       "      <td>1233</td>\n",
       "      <td>969</td>\n",
       "      <td>2500.0</td>\n",
       "      <td>H4</td>\n",
       "      <td>...</td>\n",
       "      <td>False</td>\n",
       "      <td>M</td>\n",
       "      <td>6-Speed Manual</td>\n",
       "      <td>t58994</td>\n",
       "      <td>Base</td>\n",
       "      <td>NaN</td>\n",
       "      <td>AWD</td>\n",
       "      <td>104.3</td>\n",
       "      <td>78.9</td>\n",
       "      <td>2016</td>\n",
       "    </tr>\n",
       "    <tr>\n",
       "      <th>3</th>\n",
       "      <td>3</td>\n",
       "      <td>SALRR2RV0L2433391</td>\n",
       "      <td>37.6</td>\n",
       "      <td>S</td>\n",
       "      <td>San Juan</td>\n",
       "      <td>NaN</td>\n",
       "      <td>196</td>\n",
       "      <td>922</td>\n",
       "      <td>3000.0</td>\n",
       "      <td>V6</td>\n",
       "      <td>...</td>\n",
       "      <td>NaN</td>\n",
       "      <td>A</td>\n",
       "      <td>8-Speed Automatic Overdrive</td>\n",
       "      <td>t86074</td>\n",
       "      <td>V6 HSE</td>\n",
       "      <td>NaN</td>\n",
       "      <td>AWD</td>\n",
       "      <td>115.0</td>\n",
       "      <td>87.4</td>\n",
       "      <td>2020</td>\n",
       "    </tr>\n",
       "    <tr>\n",
       "      <th>4</th>\n",
       "      <td>4</td>\n",
       "      <td>SALCJ2FXXLH862327</td>\n",
       "      <td>38.1</td>\n",
       "      <td>S</td>\n",
       "      <td>San Juan</td>\n",
       "      <td>NaN</td>\n",
       "      <td>137</td>\n",
       "      <td>922</td>\n",
       "      <td>2000.0</td>\n",
       "      <td>I4</td>\n",
       "      <td>...</td>\n",
       "      <td>NaN</td>\n",
       "      <td>A</td>\n",
       "      <td>9-Speed Automatic Overdrive</td>\n",
       "      <td>t86759</td>\n",
       "      <td>S</td>\n",
       "      <td>NaN</td>\n",
       "      <td>AWD</td>\n",
       "      <td>107.9</td>\n",
       "      <td>85.6</td>\n",
       "      <td>2020</td>\n",
       "    </tr>\n",
       "  </tbody>\n",
       "</table>\n",
       "<p>5 rows × 54 columns</p>\n",
       "</div>"
      ],
      "text/plain": [
       "   Unnamed: 0                vin  back_legroom body_type      city  \\\n",
       "0           0  ZACNJABB5KPJ92081          35.1         S   Bayamon   \n",
       "1           1  SALCJ2FX1LH858117          38.1         S  San Juan   \n",
       "2           2  JF1VA2M67G9829723          35.4         D  Guaynabo   \n",
       "3           3  SALRR2RV0L2433391          37.6         S  San Juan   \n",
       "4           4  SALCJ2FXXLH862327          38.1         S  San Juan   \n",
       "\n",
       "   city_fuel_economy  daysonmarket dealer_zip  engine_displacement  \\\n",
       "0                NaN           522        960               1300.0   \n",
       "1                NaN           207        922               2000.0   \n",
       "2               17.0          1233        969               2500.0   \n",
       "3                NaN           196        922               3000.0   \n",
       "4                NaN           137        922               2000.0   \n",
       "\n",
       "  engine_type  ... theft_title transmission         transmission_display  \\\n",
       "0          I4  ...         NaN            A  9-Speed Automatic Overdrive   \n",
       "1          I4  ...         NaN            A  9-Speed Automatic Overdrive   \n",
       "2          H4  ...       False            M               6-Speed Manual   \n",
       "3          V6  ...         NaN            A  8-Speed Automatic Overdrive   \n",
       "4          I4  ...         NaN            A  9-Speed Automatic Overdrive   \n",
       "\n",
       "   trimId trim_name  vehicle_damage_category wheel_system wheelbase width  \\\n",
       "0  t83804  Latitude                      NaN          FWD     101.2  79.6   \n",
       "1  t86759         S                      NaN          AWD     107.9  85.6   \n",
       "2  t58994      Base                      NaN          AWD     104.3  78.9   \n",
       "3  t86074    V6 HSE                      NaN          AWD     115.0  87.4   \n",
       "4  t86759         S                      NaN          AWD     107.9  85.6   \n",
       "\n",
       "   year  \n",
       "0  2019  \n",
       "1  2020  \n",
       "2  2016  \n",
       "3  2020  \n",
       "4  2020  \n",
       "\n",
       "[5 rows x 54 columns]"
      ]
     },
     "execution_count": 2,
     "metadata": {},
     "output_type": "execute_result"
    }
   ],
   "source": [
    "cars_df.head()"
   ]
  },
  {
   "cell_type": "code",
   "execution_count": 3,
   "id": "c90c55a0",
   "metadata": {},
   "outputs": [
    {
     "data": {
      "text/plain": [
       "Index(['Unnamed: 0', 'vin', 'back_legroom', 'body_type', 'city',\n",
       "       'city_fuel_economy', 'daysonmarket', 'dealer_zip',\n",
       "       'engine_displacement', 'engine_type', 'exterior_color', 'fleet',\n",
       "       'frame_damaged', 'franchise_dealer', 'franchise_make', 'front_legroom',\n",
       "       'fuel_tank_volume', 'fuel_type', 'has_accidents', 'height',\n",
       "       'highway_fuel_economy', 'horsepower', 'interior_color', 'isCab',\n",
       "       'is_certified', 'is_cpo', 'is_new', 'is_oemcpo', 'latitude', 'length',\n",
       "       'listed_date', 'listing_color', 'listing_id', 'longitude', 'make_name',\n",
       "       'maximum_seating', 'mileage', 'model_name', 'owner_count', 'price',\n",
       "       'salvage', 'savings_amount', 'seller_rating', 'sp_id', 'theft_title',\n",
       "       'transmission', 'transmission_display', 'trimId', 'trim_name',\n",
       "       'vehicle_damage_category', 'wheel_system', 'wheelbase', 'width',\n",
       "       'year'],\n",
       "      dtype='object')"
      ]
     },
     "execution_count": 3,
     "metadata": {},
     "output_type": "execute_result"
    }
   ],
   "source": [
    "cars_df.columns"
   ]
  },
  {
   "cell_type": "code",
   "execution_count": 4,
   "id": "3a6360ae",
   "metadata": {},
   "outputs": [
    {
     "data": {
      "text/plain": [
       "Unnamed: 0                       0\n",
       "vin                              0\n",
       "back_legroom                 82505\n",
       "body_type                     4598\n",
       "city                             0\n",
       "city_fuel_economy           170859\n",
       "daysonmarket                     0\n",
       "dealer_zip                       0\n",
       "engine_displacement          54134\n",
       "engine_type                  30540\n",
       "exterior_color                   4\n",
       "fleet                       487221\n",
       "frame_damaged               487221\n",
       "franchise_dealer                 0\n",
       "franchise_make              204080\n",
       "front_legroom                55852\n",
       "fuel_tank_volume             50294\n",
       "fuel_type                    26010\n",
       "has_accidents               487221\n",
       "height                       50457\n",
       "highway_fuel_economy        170859\n",
       "horsepower                   54134\n",
       "interior_color                   9\n",
       "isCab                       487221\n",
       "is_certified               1048575\n",
       "is_cpo                      974632\n",
       "is_new                           0\n",
       "is_oemcpo                   994282\n",
       "latitude                         0\n",
       "length                       50294\n",
       "listed_date                      0\n",
       "listing_color                    0\n",
       "listing_id                       0\n",
       "longitude                        0\n",
       "make_name                        0\n",
       "maximum_seating              50294\n",
       "mileage                      52694\n",
       "model_name                       0\n",
       "owner_count                 520257\n",
       "price                            0\n",
       "salvage                     487221\n",
       "savings_amount                   0\n",
       "seller_rating                11550\n",
       "sp_id                           78\n",
       "theft_title                 487221\n",
       "transmission                 17211\n",
       "transmission_display         17211\n",
       "trimId                       37654\n",
       "trim_name                    37964\n",
       "vehicle_damage_category    1048575\n",
       "wheel_system                 47762\n",
       "wheelbase                    50452\n",
       "width                        50459\n",
       "year                             0\n",
       "dtype: int64"
      ]
     },
     "execution_count": 4,
     "metadata": {},
     "output_type": "execute_result"
    }
   ],
   "source": [
    "cars_df.isna().sum()"
   ]
  },
  {
   "cell_type": "code",
   "execution_count": 5,
   "id": "2c39fc05",
   "metadata": {},
   "outputs": [],
   "source": [
    "cars_df.drop(['vehicle_damage_category','Unnamed: 0','is_certified'], inplace=True, axis=1)\n"
   ]
  },
  {
   "cell_type": "code",
   "execution_count": 6,
   "id": "9fff262d",
   "metadata": {},
   "outputs": [
    {
     "data": {
      "text/plain": [
       "22.399261264463675"
      ]
     },
     "execution_count": 6,
     "metadata": {},
     "output_type": "execute_result"
    }
   ],
   "source": [
    "fuel_mean=cars_df['city_fuel_economy'].mean()\n",
    "fuel_mean"
   ]
  },
  {
   "cell_type": "code",
   "execution_count": 7,
   "id": "ee4ca1fc",
   "metadata": {},
   "outputs": [],
   "source": [
    "cars_df['city_fuel_economy'].fillna(value=fuel_mean, inplace=True)"
   ]
  },
  {
   "cell_type": "code",
   "execution_count": 8,
   "id": "6f846c67",
   "metadata": {},
   "outputs": [],
   "source": [
    "cars_df['city_fuel_economy']=cars_df['city_fuel_economy'].replace('Nan',fuel_mean)"
   ]
  },
  {
   "cell_type": "code",
   "execution_count": 9,
   "id": "fa633c2a",
   "metadata": {},
   "outputs": [
    {
     "data": {
      "text/plain": [
       "0          22.399261\n",
       "1          22.399261\n",
       "2          17.000000\n",
       "3          22.399261\n",
       "4          22.399261\n",
       "             ...    \n",
       "1048570    14.000000\n",
       "1048571    18.000000\n",
       "1048572    22.399261\n",
       "1048573    22.399261\n",
       "1048574    15.000000\n",
       "Name: city_fuel_economy, Length: 1048575, dtype: float64"
      ]
     },
     "execution_count": 9,
     "metadata": {},
     "output_type": "execute_result"
    }
   ],
   "source": [
    "cars_df['city_fuel_economy']"
   ]
  },
  {
   "cell_type": "code",
   "execution_count": 10,
   "id": "c0a0820a",
   "metadata": {},
   "outputs": [
    {
     "data": {
      "text/plain": [
       "0    False\n",
       "dtype: object"
      ]
     },
     "execution_count": 10,
     "metadata": {},
     "output_type": "execute_result"
    }
   ],
   "source": [
    "thief_mode=cars_df['theft_title'].mode()\n",
    "thief_mode"
   ]
  },
  {
   "cell_type": "code",
   "execution_count": 11,
   "id": "86d59be7",
   "metadata": {},
   "outputs": [],
   "source": [
    "cars_df['theft_title'].fillna(value=thief_mode, inplace=True)"
   ]
  },
  {
   "cell_type": "code",
   "execution_count": 12,
   "id": "9f4ce29c",
   "metadata": {},
   "outputs": [
    {
     "data": {
      "text/plain": [
       "array(['Black', 'Black (Ebony)', 'None', ..., 'FC22 - BLACK GRAPHITE',\n",
       "       'Gray (AZ10)', 'White (FA14)'], dtype=object)"
      ]
     },
     "execution_count": 12,
     "metadata": {},
     "output_type": "execute_result"
    }
   ],
   "source": [
    "cars_df['interior_color'].unique()"
   ]
  },
  {
   "cell_type": "code",
   "execution_count": 13,
   "id": "f1e77583",
   "metadata": {},
   "outputs": [
    {
     "data": {
      "text/html": [
       "<div>\n",
       "<style scoped>\n",
       "    .dataframe tbody tr th:only-of-type {\n",
       "        vertical-align: middle;\n",
       "    }\n",
       "\n",
       "    .dataframe tbody tr th {\n",
       "        vertical-align: top;\n",
       "    }\n",
       "\n",
       "    .dataframe thead th {\n",
       "        text-align: right;\n",
       "    }\n",
       "</style>\n",
       "<table border=\"1\" class=\"dataframe\">\n",
       "  <thead>\n",
       "    <tr style=\"text-align: right;\">\n",
       "      <th></th>\n",
       "      <th>vin</th>\n",
       "      <th>back_legroom</th>\n",
       "      <th>body_type</th>\n",
       "      <th>city</th>\n",
       "      <th>city_fuel_economy</th>\n",
       "      <th>daysonmarket</th>\n",
       "      <th>dealer_zip</th>\n",
       "      <th>engine_displacement</th>\n",
       "      <th>engine_type</th>\n",
       "      <th>exterior_color</th>\n",
       "      <th>...</th>\n",
       "      <th>sp_id</th>\n",
       "      <th>theft_title</th>\n",
       "      <th>transmission</th>\n",
       "      <th>transmission_display</th>\n",
       "      <th>trimId</th>\n",
       "      <th>trim_name</th>\n",
       "      <th>wheel_system</th>\n",
       "      <th>wheelbase</th>\n",
       "      <th>width</th>\n",
       "      <th>year</th>\n",
       "    </tr>\n",
       "  </thead>\n",
       "  <tbody>\n",
       "    <tr>\n",
       "      <th>0</th>\n",
       "      <td>ZACNJABB5KPJ92081</td>\n",
       "      <td>35.1</td>\n",
       "      <td>S</td>\n",
       "      <td>Bayamon</td>\n",
       "      <td>22.399261</td>\n",
       "      <td>522</td>\n",
       "      <td>960</td>\n",
       "      <td>1300.0</td>\n",
       "      <td>I4</td>\n",
       "      <td>Solar Yellow</td>\n",
       "      <td>...</td>\n",
       "      <td>370599.0</td>\n",
       "      <td>False</td>\n",
       "      <td>A</td>\n",
       "      <td>9-Speed Automatic Overdrive</td>\n",
       "      <td>t83804</td>\n",
       "      <td>Latitude</td>\n",
       "      <td>FWD</td>\n",
       "      <td>101.2</td>\n",
       "      <td>79.6</td>\n",
       "      <td>2019</td>\n",
       "    </tr>\n",
       "    <tr>\n",
       "      <th>1</th>\n",
       "      <td>SALCJ2FX1LH858117</td>\n",
       "      <td>38.1</td>\n",
       "      <td>S</td>\n",
       "      <td>San Juan</td>\n",
       "      <td>22.399261</td>\n",
       "      <td>207</td>\n",
       "      <td>922</td>\n",
       "      <td>2000.0</td>\n",
       "      <td>I4</td>\n",
       "      <td>Narvik Black</td>\n",
       "      <td>...</td>\n",
       "      <td>389227.0</td>\n",
       "      <td>NaN</td>\n",
       "      <td>A</td>\n",
       "      <td>9-Speed Automatic Overdrive</td>\n",
       "      <td>t86759</td>\n",
       "      <td>S</td>\n",
       "      <td>AWD</td>\n",
       "      <td>107.9</td>\n",
       "      <td>85.6</td>\n",
       "      <td>2020</td>\n",
       "    </tr>\n",
       "    <tr>\n",
       "      <th>2</th>\n",
       "      <td>JF1VA2M67G9829723</td>\n",
       "      <td>35.4</td>\n",
       "      <td>D</td>\n",
       "      <td>Guaynabo</td>\n",
       "      <td>17.000000</td>\n",
       "      <td>1233</td>\n",
       "      <td>969</td>\n",
       "      <td>2500.0</td>\n",
       "      <td>H4</td>\n",
       "      <td>None</td>\n",
       "      <td>...</td>\n",
       "      <td>370467.0</td>\n",
       "      <td>False</td>\n",
       "      <td>M</td>\n",
       "      <td>6-Speed Manual</td>\n",
       "      <td>t58994</td>\n",
       "      <td>Base</td>\n",
       "      <td>AWD</td>\n",
       "      <td>104.3</td>\n",
       "      <td>78.9</td>\n",
       "      <td>2016</td>\n",
       "    </tr>\n",
       "    <tr>\n",
       "      <th>3</th>\n",
       "      <td>SALRR2RV0L2433391</td>\n",
       "      <td>37.6</td>\n",
       "      <td>S</td>\n",
       "      <td>San Juan</td>\n",
       "      <td>22.399261</td>\n",
       "      <td>196</td>\n",
       "      <td>922</td>\n",
       "      <td>3000.0</td>\n",
       "      <td>V6</td>\n",
       "      <td>Eiger Gray</td>\n",
       "      <td>...</td>\n",
       "      <td>389227.0</td>\n",
       "      <td>NaN</td>\n",
       "      <td>A</td>\n",
       "      <td>8-Speed Automatic Overdrive</td>\n",
       "      <td>t86074</td>\n",
       "      <td>V6 HSE</td>\n",
       "      <td>AWD</td>\n",
       "      <td>115.0</td>\n",
       "      <td>87.4</td>\n",
       "      <td>2020</td>\n",
       "    </tr>\n",
       "    <tr>\n",
       "      <th>4</th>\n",
       "      <td>SALCJ2FXXLH862327</td>\n",
       "      <td>38.1</td>\n",
       "      <td>S</td>\n",
       "      <td>San Juan</td>\n",
       "      <td>22.399261</td>\n",
       "      <td>137</td>\n",
       "      <td>922</td>\n",
       "      <td>2000.0</td>\n",
       "      <td>I4</td>\n",
       "      <td>Narvik Black</td>\n",
       "      <td>...</td>\n",
       "      <td>389227.0</td>\n",
       "      <td>NaN</td>\n",
       "      <td>A</td>\n",
       "      <td>9-Speed Automatic Overdrive</td>\n",
       "      <td>t86759</td>\n",
       "      <td>S</td>\n",
       "      <td>AWD</td>\n",
       "      <td>107.9</td>\n",
       "      <td>85.6</td>\n",
       "      <td>2020</td>\n",
       "    </tr>\n",
       "  </tbody>\n",
       "</table>\n",
       "<p>5 rows × 51 columns</p>\n",
       "</div>"
      ],
      "text/plain": [
       "                 vin  back_legroom body_type      city  city_fuel_economy  \\\n",
       "0  ZACNJABB5KPJ92081          35.1         S   Bayamon          22.399261   \n",
       "1  SALCJ2FX1LH858117          38.1         S  San Juan          22.399261   \n",
       "2  JF1VA2M67G9829723          35.4         D  Guaynabo          17.000000   \n",
       "3  SALRR2RV0L2433391          37.6         S  San Juan          22.399261   \n",
       "4  SALCJ2FXXLH862327          38.1         S  San Juan          22.399261   \n",
       "\n",
       "   daysonmarket dealer_zip  engine_displacement engine_type exterior_color  \\\n",
       "0           522        960               1300.0          I4   Solar Yellow   \n",
       "1           207        922               2000.0          I4   Narvik Black   \n",
       "2          1233        969               2500.0          H4           None   \n",
       "3           196        922               3000.0          V6     Eiger Gray   \n",
       "4           137        922               2000.0          I4   Narvik Black   \n",
       "\n",
       "   ...     sp_id theft_title  transmission         transmission_display  \\\n",
       "0  ...  370599.0       False             A  9-Speed Automatic Overdrive   \n",
       "1  ...  389227.0         NaN             A  9-Speed Automatic Overdrive   \n",
       "2  ...  370467.0       False             M               6-Speed Manual   \n",
       "3  ...  389227.0         NaN             A  8-Speed Automatic Overdrive   \n",
       "4  ...  389227.0         NaN             A  9-Speed Automatic Overdrive   \n",
       "\n",
       "   trimId trim_name wheel_system wheelbase  width  year  \n",
       "0  t83804  Latitude          FWD     101.2   79.6  2019  \n",
       "1  t86759         S          AWD     107.9   85.6  2020  \n",
       "2  t58994      Base          AWD     104.3   78.9  2016  \n",
       "3  t86074    V6 HSE          AWD     115.0   87.4  2020  \n",
       "4  t86759         S          AWD     107.9   85.6  2020  \n",
       "\n",
       "[5 rows x 51 columns]"
      ]
     },
     "execution_count": 13,
     "metadata": {},
     "output_type": "execute_result"
    }
   ],
   "source": [
    "cars_df.head()"
   ]
  },
  {
   "cell_type": "code",
   "execution_count": 14,
   "id": "a49369d8",
   "metadata": {},
   "outputs": [
    {
     "data": {
      "text/plain": [
       "array(['G', 'D', nan, 'B', 'Flex Fuel Vehicle', 'E', 'H',\n",
       "       'Compressed Natural Gas'], dtype=object)"
      ]
     },
     "execution_count": 14,
     "metadata": {},
     "output_type": "execute_result"
    }
   ],
   "source": [
    "cars_df['fuel_type'].unique()"
   ]
  },
  {
   "cell_type": "code",
   "execution_count": 15,
   "id": "843b1f1f",
   "metadata": {},
   "outputs": [],
   "source": [
    "cars_df['fuel_type']=cars_df['fuel_type'].replace(['G','D','B','E','H'],['Gasoline','Diesel','Biodiesel','Electric','Hybrid'])"
   ]
  },
  {
   "cell_type": "code",
   "execution_count": 16,
   "id": "c48a54b6",
   "metadata": {},
   "outputs": [
    {
     "data": {
      "text/plain": [
       "array(['Gasoline', 'Diesel', nan, 'Biodiesel', 'Flex Fuel Vehicle',\n",
       "       'Electric', 'Hybrid', 'Compressed Natural Gas'], dtype=object)"
      ]
     },
     "execution_count": 16,
     "metadata": {},
     "output_type": "execute_result"
    }
   ],
   "source": [
    "cars_df['fuel_type'].unique()"
   ]
  },
  {
   "cell_type": "code",
   "execution_count": null,
   "id": "831be5a9",
   "metadata": {},
   "outputs": [],
   "source": [
    "cars_df.to_csv('UsedCars_Draft.csv', encoding='utf-8')"
   ]
  },
  {
   "cell_type": "code",
   "execution_count": null,
   "id": "9a34553e",
   "metadata": {},
   "outputs": [],
   "source": []
  }
 ],
 "metadata": {
  "kernelspec": {
   "display_name": "Python 3 (ipykernel)",
   "language": "python",
   "name": "python3"
  },
  "language_info": {
   "codemirror_mode": {
    "name": "ipython",
    "version": 3
   },
   "file_extension": ".py",
   "mimetype": "text/x-python",
   "name": "python",
   "nbconvert_exporter": "python",
   "pygments_lexer": "ipython3",
   "version": "3.9.7"
  }
 },
 "nbformat": 4,
 "nbformat_minor": 5
}
